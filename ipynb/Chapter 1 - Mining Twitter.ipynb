{
 "metadata": {
  "name": "",
  "signature": "sha256:279ed8ad9bd8770b6282bf148541c24f3f70a444aaacfd668b3eea36762b8481"
 },
 "nbformat": 3,
 "nbformat_minor": 0,
 "worksheets": [
  {
   "cells": [
    {
     "cell_type": "markdown",
     "metadata": {},
     "source": [
      "#Mining the Social Web, 2nd Edition\n",
      "\n",
      "##Chapter 1: Mining Twitter: Exploring Trending Topics, Discovering What People Are Talking About, and More\n",
      "\n",
      "This IPython Notebook provides an interactive way to follow along with and explore the numbered examples from [_Mining the Social Web (2nd Edition)_](http://bit.ly/135dHfs). The intent behind this notebook is to reinforce the concepts from the sample code in a fun, convenient, and effective way. This notebook assumes that you are reading along with the book and have the context of the discussion as you work through these exercises.\n",
      "\n",
      "In the somewhat unlikely event that you've somehow stumbled across this notebook outside of its context on GitHub, [you can find the full source code repository here](http://bit.ly/16kGNyb).\n",
      "\n",
      "## Copyright and Licensing\n",
      "\n",
      "You are free to use or adapt this notebook for any purpose you'd like. However, please respect the [Simplified BSD License](https://github.com/ptwobrussell/Mining-the-Social-Web-2nd-Edition/blob/master/LICENSE.txt) that governs its use."
     ]
    },
    {
     "cell_type": "markdown",
     "metadata": {},
     "source": [
      "# Twitter API Access\n",
      "\n",
      "Twitter implements OAuth 1.0A as its standard authentication mechanism, and in order to use it to make requests to Twitter's API, you'll need to go to https://dev.twitter.com/apps and create a sample application. There are four primary identifiers you'll need to note for an OAuth 1.0A workflow: consumer key, consumer secret, access token, and access token secret. Note that you will need an ordinary Twitter account in order to login, create an app, and get these credentials.\n",
      "\n",
      "<img src=\"files/resources/ch01-twitter/images/Twitter-AppCredentials.png\" width=\"600px\">"
     ]
    },
    {
     "cell_type": "markdown",
     "metadata": {},
     "source": [
      "If you are taking advantage of the virtual machine experience for this chapter that is powered by Vagrant, you should just be able to execute the code in this notebook without any worries whatsoever about installing dependencies. If you are running the code from your own development envioronment, however, be advised that these examples in this chapter take advantage of a Python package called [twitter](https://github.com/sixohsix/twitter) to make API calls. You can install this package in a terminal with [pip](https://pypi.python.org/pypi/pip) with the command `pip install twitter`, preferably from within a [Python virtual environment](https://pypi.python.org/pypi/virtualenv). "
     ]
    },
    {
     "cell_type": "markdown",
     "metadata": {},
     "source": [
      "Once installed, you should be able to open up a Python interpreter (or better yet, your [IPython](http://ipython.org/) interpreter) and get rolling."
     ]
    },
    {
     "cell_type": "heading",
     "level": 2,
     "metadata": {},
     "source": [
      "Example 1. Authorizing an application to access Twitter account data"
     ]
    },
    {
     "cell_type": "code",
     "collapsed": false,
     "input": [
      "import twitter\n",
      "\n",
      "# XXX: Go to http://dev.twitter.com/apps/new to create an app and get values\n",
      "# for these credentials, which you'll need to provide in place of these\n",
      "# empty string values that are defined as placeholders.\n",
      "# See https://dev.twitter.com/docs/auth/oauth for more information \n",
      "# on Twitter's OAuth implementation.\n",
      "\n",
      "CONSUMER_KEY = 'Yk0GEQnjzar9wZOfhvcHmG3wW'\n",
      "CONSUMER_SECRET ='ULB1pi4nNyrMU3VAVqsRmCXGLXkP47buj7pyW7YxDR8X6W2faa'\n",
      "OAUTH_TOKEN = '263216225-g2kAX3wEtRdnFINJx0vpZL4WuBV9dqUR0iKtPacE'\n",
      "OAUTH_TOKEN_SECRET = 'P2w0yKsVkR14oh7Zf4ASIJGMBOX3dyGStOcNgytlXn2qj'\n",
      "\n",
      "auth = twitter.oauth.OAuth(OAUTH_TOKEN, OAUTH_TOKEN_SECRET,\n",
      "                           CONSUMER_KEY, CONSUMER_SECRET)\n",
      "\n",
      "twitter_api = twitter.Twitter(auth=auth)\n",
      "\n",
      "# Nothing to see by displaying twitter_api except that it's now a\n",
      "# defined variable\n",
      "\n",
      "print twitter_api"
     ],
     "language": "python",
     "metadata": {},
     "outputs": [
      {
       "output_type": "stream",
       "stream": "stdout",
       "text": [
        "<twitter.api.Twitter object at 0x10491b690>\n"
       ]
      }
     ],
     "prompt_number": 1
    },
    {
     "cell_type": "heading",
     "level": 2,
     "metadata": {},
     "source": [
      "Example 2. Retrieving trends"
     ]
    },
    {
     "cell_type": "code",
     "collapsed": false,
     "input": [
      "# The Yahoo! Where On Earth ID for the entire world is 1.\n",
      "# See https://dev.twitter.com/docs/api/1.1/get/trends/place and\n",
      "# http://developer.yahoo.com/geo/geoplanet/\n",
      "\n",
      "WORLD_WOE_ID = 1\n",
      "US_WOE_ID = 23424977\n",
      "\n",
      "# Prefix ID with the underscore for query string parameterization.\n",
      "# Without the underscore, the twitter package appends the ID value\n",
      "# to the URL itself as a special case keyword argument.\n",
      "\n",
      "world_trends = twitter_api.trends.place(_id=WORLD_WOE_ID)\n",
      "us_trends = twitter_api.trends.place(_id=US_WOE_ID)\n",
      "\n",
      "print world_trends\n",
      "print\n",
      "print us_trends"
     ],
     "language": "python",
     "metadata": {},
     "outputs": [
      {
       "output_type": "stream",
       "stream": "stdout",
       "text": [
        "[{u'created_at': u'2014-10-30T18:09:00Z', u'trends': [{u'url': u'http://twitter.com/search?q=%23Birg%C3%BCnDe%C4%9FilHerg%C3%BCnGALATASARAYLIYIZ', u'query': u'%23Birg%C3%BCnDe%C4%9FilHerg%C3%BCnGALATASARAYLIYIZ', u'name': u'#Birg\\xfcnDe\\u011filHerg\\xfcnGALATASARAYLIYIZ', u'promoted_content': None}, {u'url': u'http://twitter.com/search?q=%22Ok%CE%B1%CE%B1nAvci+%C6%AEwitterHizmetleri%22', u'query': u'%22Ok%CE%B1%CE%B1nAvci+%C6%AEwitterHizmetleri%22', u'name': u'Ok\\u03b1\\u03b1nAvci \\u01aewitterHizmetleri', u'promoted_content': None}, {u'url': u'http://twitter.com/search?q=%2350ki%C5%9Fikim', u'query': u'%2350ki%C5%9Fikim', u'name': u'#50ki\\u015fikim', u'promoted_content': None}, {u'url': u'http://twitter.com/search?q=%23ArgentinaWantsOTRATour2015', u'query': u'%23ArgentinaWantsOTRATour2015', u'name': u'#ArgentinaWantsOTRATour2015', u'promoted_content': None}, {u'url': u'http://twitter.com/search?q=%23FelizCumpleD10S', u'query': u'%23FelizCumpleD10S', u'name': u'#FelizCumpleD10S', u'promoted_content': None}, {u'url': u'http://twitter.com/search?q=%23EnEl2015EstariaBueno', u'query': u'%23EnEl2015EstariaBueno', u'name': u'#EnEl2015EstariaBueno', u'promoted_content': None}, {u'url': u'http://twitter.com/search?q=%22Tomorrow+is+Halloween%22', u'query': u'%22Tomorrow+is+Halloween%22', u'name': u'Tomorrow is Halloween', u'promoted_content': None}, {u'url': u'http://twitter.com/search?q=LAFC', u'query': u'LAFC', u'name': u'LAFC', u'promoted_content': None}, {u'url': u'http://twitter.com/search?q=%22RIP+Mayor+Menino%22', u'query': u'%22RIP+Mayor+Menino%22', u'name': u'RIP Mayor Menino', u'promoted_content': None}, {u'url': u'http://twitter.com/search?q=%22Microsoft+Band%22', u'query': u'%22Microsoft+Band%22', u'name': u'Microsoft Band', u'promoted_content': None}], u'as_of': u'2014-10-30T18:14:23Z', u'locations': [{u'woeid': 1, u'name': u'Worldwide'}]}]\n",
        "\n",
        "[{u'created_at': u'2014-10-30T18:09:00Z', u'trends': [{u'url': u'http://twitter.com/search?q=%23KeepCalmVoteDem', u'query': u'%23KeepCalmVoteDem', u'name': u'#KeepCalmVoteDem', u'promoted_content': None}, {u'url': u'http://twitter.com/search?q=%22Tomorrow+is+Halloween%22', u'query': u'%22Tomorrow+is+Halloween%22', u'name': u'Tomorrow is Halloween', u'promoted_content': None}, {u'url': u'http://twitter.com/search?q=%22RIP+Mayor+Menino%22', u'query': u'%22RIP+Mayor+Menino%22', u'name': u'RIP Mayor Menino', u'promoted_content': None}, {u'url': u'http://twitter.com/search?q=LAFC', u'query': u'LAFC', u'name': u'LAFC', u'promoted_content': None}, {u'url': u'http://twitter.com/search?q=%23technologyandstuff', u'query': u'%23technologyandstuff', u'name': u'#technologyandstuff', u'promoted_content': None}, {u'url': u'http://twitter.com/search?q=%23RejectedNamesForDatingWebsites', u'query': u'%23RejectedNamesForDatingWebsites', u'name': u'#RejectedNamesForDatingWebsites', u'promoted_content': None}, {u'url': u'http://twitter.com/search?q=%23SugarFreeDyeFree', u'query': u'%23SugarFreeDyeFree', u'name': u'#SugarFreeDyeFree', u'promoted_content': None}, {u'url': u'http://twitter.com/search?q=%22James+Blair%22', u'query': u'%22James+Blair%22', u'name': u'James Blair', u'promoted_content': None}, {u'url': u'http://twitter.com/search?q=%23DontTrustHarry', u'query': u'%23DontTrustHarry', u'name': u'#DontTrustHarry', u'promoted_content': None}, {u'url': u'http://twitter.com/search?q=%22Microsoft+Band%22', u'query': u'%22Microsoft+Band%22', u'name': u'Microsoft Band', u'promoted_content': None}], u'as_of': u'2014-10-30T18:14:23Z', u'locations': [{u'woeid': 23424977, u'name': u'United States'}]}]\n"
       ]
      }
     ],
     "prompt_number": 3
    },
    {
     "cell_type": "heading",
     "level": 2,
     "metadata": {},
     "source": [
      "Example 3. Displaying API responses as pretty-printed JSON"
     ]
    },
    {
     "cell_type": "code",
     "collapsed": false,
     "input": [
      "import json\n",
      "\n",
      "print json.dumps(world_trends, indent=1)\n",
      "print\n",
      "print json.dumps(us_trends, indent=1)"
     ],
     "language": "python",
     "metadata": {},
     "outputs": [
      {
       "output_type": "stream",
       "stream": "stdout",
       "text": [
        "[\n",
        " {\n",
        "  \"created_at\": \"2014-10-30T18:09:00Z\", \n",
        "  \"trends\": [\n",
        "   {\n",
        "    \"url\": \"http://twitter.com/search?q=%23Birg%C3%BCnDe%C4%9FilHerg%C3%BCnGALATASARAYLIYIZ\", \n",
        "    \"query\": \"%23Birg%C3%BCnDe%C4%9FilHerg%C3%BCnGALATASARAYLIYIZ\", \n",
        "    \"name\": \"#Birg\\u00fcnDe\\u011filHerg\\u00fcnGALATASARAYLIYIZ\", \n",
        "    \"promoted_content\": null\n",
        "   }, \n",
        "   {\n",
        "    \"url\": \"http://twitter.com/search?q=%22Ok%CE%B1%CE%B1nAvci+%C6%AEwitterHizmetleri%22\", \n",
        "    \"query\": \"%22Ok%CE%B1%CE%B1nAvci+%C6%AEwitterHizmetleri%22\", \n",
        "    \"name\": \"Ok\\u03b1\\u03b1nAvci \\u01aewitterHizmetleri\", \n",
        "    \"promoted_content\": null\n",
        "   }, \n",
        "   {\n",
        "    \"url\": \"http://twitter.com/search?q=%2350ki%C5%9Fikim\", \n",
        "    \"query\": \"%2350ki%C5%9Fikim\", \n",
        "    \"name\": \"#50ki\\u015fikim\", \n",
        "    \"promoted_content\": null\n",
        "   }, \n",
        "   {\n",
        "    \"url\": \"http://twitter.com/search?q=%23ArgentinaWantsOTRATour2015\", \n",
        "    \"query\": \"%23ArgentinaWantsOTRATour2015\", \n",
        "    \"name\": \"#ArgentinaWantsOTRATour2015\", \n",
        "    \"promoted_content\": null\n",
        "   }, \n",
        "   {\n",
        "    \"url\": \"http://twitter.com/search?q=%23FelizCumpleD10S\", \n",
        "    \"query\": \"%23FelizCumpleD10S\", \n",
        "    \"name\": \"#FelizCumpleD10S\", \n",
        "    \"promoted_content\": null\n",
        "   }, \n",
        "   {\n",
        "    \"url\": \"http://twitter.com/search?q=%23EnEl2015EstariaBueno\", \n",
        "    \"query\": \"%23EnEl2015EstariaBueno\", \n",
        "    \"name\": \"#EnEl2015EstariaBueno\", \n",
        "    \"promoted_content\": null\n",
        "   }, \n",
        "   {\n",
        "    \"url\": \"http://twitter.com/search?q=%22Tomorrow+is+Halloween%22\", \n",
        "    \"query\": \"%22Tomorrow+is+Halloween%22\", \n",
        "    \"name\": \"Tomorrow is Halloween\", \n",
        "    \"promoted_content\": null\n",
        "   }, \n",
        "   {\n",
        "    \"url\": \"http://twitter.com/search?q=LAFC\", \n",
        "    \"query\": \"LAFC\", \n",
        "    \"name\": \"LAFC\", \n",
        "    \"promoted_content\": null\n",
        "   }, \n",
        "   {\n",
        "    \"url\": \"http://twitter.com/search?q=%22RIP+Mayor+Menino%22\", \n",
        "    \"query\": \"%22RIP+Mayor+Menino%22\", \n",
        "    \"name\": \"RIP Mayor Menino\", \n",
        "    \"promoted_content\": null\n",
        "   }, \n",
        "   {\n",
        "    \"url\": \"http://twitter.com/search?q=%22Microsoft+Band%22\", \n",
        "    \"query\": \"%22Microsoft+Band%22\", \n",
        "    \"name\": \"Microsoft Band\", \n",
        "    \"promoted_content\": null\n",
        "   }\n",
        "  ], \n",
        "  \"as_of\": \"2014-10-30T18:14:23Z\", \n",
        "  \"locations\": [\n",
        "   {\n",
        "    \"woeid\": 1, \n",
        "    \"name\": \"Worldwide\"\n",
        "   }\n",
        "  ]\n",
        " }\n",
        "]\n",
        "\n",
        "[\n",
        " {\n",
        "  \"created_at\": \"2014-10-30T18:09:00Z\", \n",
        "  \"trends\": [\n",
        "   {\n",
        "    \"url\": \"http://twitter.com/search?q=%23KeepCalmVoteDem\", \n",
        "    \"query\": \"%23KeepCalmVoteDem\", \n",
        "    \"name\": \"#KeepCalmVoteDem\", \n",
        "    \"promoted_content\": null\n",
        "   }, \n",
        "   {\n",
        "    \"url\": \"http://twitter.com/search?q=%22Tomorrow+is+Halloween%22\", \n",
        "    \"query\": \"%22Tomorrow+is+Halloween%22\", \n",
        "    \"name\": \"Tomorrow is Halloween\", \n",
        "    \"promoted_content\": null\n",
        "   }, \n",
        "   {\n",
        "    \"url\": \"http://twitter.com/search?q=%22RIP+Mayor+Menino%22\", \n",
        "    \"query\": \"%22RIP+Mayor+Menino%22\", \n",
        "    \"name\": \"RIP Mayor Menino\", \n",
        "    \"promoted_content\": null\n",
        "   }, \n",
        "   {\n",
        "    \"url\": \"http://twitter.com/search?q=LAFC\", \n",
        "    \"query\": \"LAFC\", \n",
        "    \"name\": \"LAFC\", \n",
        "    \"promoted_content\": null\n",
        "   }, \n",
        "   {\n",
        "    \"url\": \"http://twitter.com/search?q=%23technologyandstuff\", \n",
        "    \"query\": \"%23technologyandstuff\", \n",
        "    \"name\": \"#technologyandstuff\", \n",
        "    \"promoted_content\": null\n",
        "   }, \n",
        "   {\n",
        "    \"url\": \"http://twitter.com/search?q=%23RejectedNamesForDatingWebsites\", \n",
        "    \"query\": \"%23RejectedNamesForDatingWebsites\", \n",
        "    \"name\": \"#RejectedNamesForDatingWebsites\", \n",
        "    \"promoted_content\": null\n",
        "   }, \n",
        "   {\n",
        "    \"url\": \"http://twitter.com/search?q=%23SugarFreeDyeFree\", \n",
        "    \"query\": \"%23SugarFreeDyeFree\", \n",
        "    \"name\": \"#SugarFreeDyeFree\", \n",
        "    \"promoted_content\": null\n",
        "   }, \n",
        "   {\n",
        "    \"url\": \"http://twitter.com/search?q=%22James+Blair%22\", \n",
        "    \"query\": \"%22James+Blair%22\", \n",
        "    \"name\": \"James Blair\", \n",
        "    \"promoted_content\": null\n",
        "   }, \n",
        "   {\n",
        "    \"url\": \"http://twitter.com/search?q=%23DontTrustHarry\", \n",
        "    \"query\": \"%23DontTrustHarry\", \n",
        "    \"name\": \"#DontTrustHarry\", \n",
        "    \"promoted_content\": null\n",
        "   }, \n",
        "   {\n",
        "    \"url\": \"http://twitter.com/search?q=%22Microsoft+Band%22\", \n",
        "    \"query\": \"%22Microsoft+Band%22\", \n",
        "    \"name\": \"Microsoft Band\", \n",
        "    \"promoted_content\": null\n",
        "   }\n",
        "  ], \n",
        "  \"as_of\": \"2014-10-30T18:14:23Z\", \n",
        "  \"locations\": [\n",
        "   {\n",
        "    \"woeid\": 23424977, \n",
        "    \"name\": \"United States\"\n",
        "   }\n",
        "  ]\n",
        " }\n",
        "]\n"
       ]
      }
     ],
     "prompt_number": 4
    },
    {
     "cell_type": "heading",
     "level": 2,
     "metadata": {},
     "source": [
      "Example 4. Computing the intersection of two sets of trends"
     ]
    },
    {
     "cell_type": "code",
     "collapsed": false,
     "input": [
      "world_trends_set = set([trend['name'] \n",
      "                        for trend in world_trends[0]['trends']])\n",
      "\n",
      "us_trends_set = set([trend['name'] \n",
      "                     for trend in us_trends[0]['trends']]) \n",
      "\n",
      "common_trends = world_trends_set.intersection(us_trends_set)\n",
      "\n",
      "print common_trends"
     ],
     "language": "python",
     "metadata": {},
     "outputs": [
      {
       "output_type": "stream",
       "stream": "stdout",
       "text": [
        "set([u'Tomorrow is Halloween', u'LAFC', u'Microsoft Band', u'RIP Mayor Menino'])\n"
       ]
      }
     ],
     "prompt_number": 6
    },
    {
     "cell_type": "heading",
     "level": 2,
     "metadata": {},
     "source": [
      "Example 5. Collecting search results"
     ]
    },
    {
     "cell_type": "code",
     "collapsed": false,
     "input": [
      "# XXX: Set this variable to a trending topic, \n",
      "# or anything else for that matter. The example query below\n",
      "# was a trending topic when this content was being developed\n",
      "# and is used throughout the remainder of this chapter.\n",
      "\n",
      "q = '##NoSleepTeam' \n",
      "\n",
      "count = 100\n",
      "\n",
      "# See https://dev.twitter.com/docs/api/1.1/get/search/tweets\n",
      "\n",
      "search_results = twitter_api.search.tweets(q=q, count=count)\n",
      "\n",
      "statuses = search_results['statuses']\n",
      "\n",
      "\n",
      "# Iterate through 5 more batches of results by following the cursor\n",
      "\n",
      "for _ in range(5):\n",
      "    print \"Length of statuses\", len(statuses)\n",
      "    try:\n",
      "        next_results = search_results['search_metadata']['next_results']\n",
      "    except KeyError, e: # No more results when next_results doesn't exist\n",
      "        break\n",
      "        \n",
      "    # Create a dictionary from next_results, which has the following form:\n",
      "    # ?max_id=313519052523986943&q=NCAA&include_entities=1\n",
      "    kwargs = dict([ kv.split('=') for kv in next_results[1:].split(\"&\") ])\n",
      "    \n",
      "    search_results = twitter_api.search.tweets(**kwargs)\n",
      "    statuses += search_results['statuses']\n",
      "\n",
      "# Show one sample search result by slicing the list...\n",
      "print json.dumps(statuses[0], indent=1)"
     ],
     "language": "python",
     "metadata": {},
     "outputs": [
      {
       "output_type": "stream",
       "stream": "stdout",
       "text": [
        "Length of statuses 100\n",
        "Length of statuses"
       ]
      },
      {
       "output_type": "stream",
       "stream": "stdout",
       "text": [
        " 200\n",
        "Length of statuses"
       ]
      },
      {
       "output_type": "stream",
       "stream": "stdout",
       "text": [
        " 200\n",
        "{\n",
        " \"contributors\": null, \n",
        " \"truncated\": false, \n",
        " \"text\": \"#NoSleepTeam #ForeverTogetherEP Call me 8033891392\\u2764\\ufe0f\\ud83d\\ude18\\ud83d\\ude0d#ForeverTogetherOutNow \\u2764\\ufe0f\", \n",
        " \"in_reply_to_status_id\": null, \n",
        " \"id\": 526584844533633024, \n",
        " \"favorite_count\": 0, \n",
        " \"source\": \"<a href=\\\"http://twitter.com/download/iphone\\\" rel=\\\"nofollow\\\">Twitter for iPhone</a>\", \n",
        " \"retweeted\": false, \n",
        " \"coordinates\": null, \n",
        " \"entities\": {\n",
        "  \"symbols\": [], \n",
        "  \"user_mentions\": [], \n",
        "  \"hashtags\": [\n",
        "   {\n",
        "    \"indices\": [\n",
        "     0, \n",
        "     12\n",
        "    ], \n",
        "    \"text\": \"NoSleepTeam\"\n",
        "   }, \n",
        "   {\n",
        "    \"indices\": [\n",
        "     13, \n",
        "     31\n",
        "    ], \n",
        "    \"text\": \"ForeverTogetherEP\"\n",
        "   }, \n",
        "   {\n",
        "    \"indices\": [\n",
        "     54, \n",
        "     76\n",
        "    ], \n",
        "    \"text\": \"ForeverTogetherOutNow\"\n",
        "   }\n",
        "  ], \n",
        "  \"urls\": []\n",
        " }, \n",
        " \"in_reply_to_screen_name\": null, \n",
        " \"in_reply_to_user_id\": null, \n",
        " \"retweet_count\": 0, \n",
        " \"id_str\": \"526584844533633024\", \n",
        " \"favorited\": false, \n",
        " \"user\": {\n",
        "  \"follow_request_sent\": false, \n",
        "  \"profile_use_background_image\": false, \n",
        "  \"profile_text_color\": \"333333\", \n",
        "  \"default_profile_image\": false, \n",
        "  \"id\": 421621119, \n",
        "  \"profile_background_image_url_https\": \"https://abs.twimg.com/images/themes/theme18/bg.gif\", \n",
        "  \"verified\": false, \n",
        "  \"profile_location\": null, \n",
        "  \"profile_image_url_https\": \"https://pbs.twimg.com/profile_images/510624402669854720/ifMb5OhT_normal.jpeg\", \n",
        "  \"profile_sidebar_fill_color\": \"F6F6F6\", \n",
        "  \"entities\": {\n",
        "   \"description\": {\n",
        "    \"urls\": []\n",
        "   }\n",
        "  }, \n",
        "  \"followers_count\": 87, \n",
        "  \"profile_sidebar_border_color\": \"FFFFFF\", \n",
        "  \"id_str\": \"421621119\", \n",
        "  \"profile_background_color\": \"269DA6\", \n",
        "  \"listed_count\": 0, \n",
        "  \"is_translation_enabled\": false, \n",
        "  \"utc_offset\": null, \n",
        "  \"statuses_count\": 591, \n",
        "  \"description\": \"i love emblem 3 so if you see me tweeting them alot sorry #sorrynotsorry \\u2764\\ufe0f\", \n",
        "  \"friends_count\": 228, \n",
        "  \"location\": \"\", \n",
        "  \"profile_link_color\": \"0E4D3B\", \n",
        "  \"profile_image_url\": \"http://pbs.twimg.com/profile_images/510624402669854720/ifMb5OhT_normal.jpeg\", \n",
        "  \"following\": false, \n",
        "  \"geo_enabled\": false, \n",
        "  \"profile_banner_url\": \"https://pbs.twimg.com/profile_banners/421621119/1368990647\", \n",
        "  \"profile_background_image_url\": \"http://abs.twimg.com/images/themes/theme18/bg.gif\", \n",
        "  \"name\": \"meagan_boulware\", \n",
        "  \"lang\": \"en\", \n",
        "  \"profile_background_tile\": true, \n",
        "  \"favourites_count\": 281, \n",
        "  \"screen_name\": \"meaganboulware\", \n",
        "  \"notifications\": false, \n",
        "  \"url\": null, \n",
        "  \"created_at\": \"Sat Nov 26 05:24:22 +0000 2011\", \n",
        "  \"contributors_enabled\": false, \n",
        "  \"time_zone\": null, \n",
        "  \"protected\": false, \n",
        "  \"default_profile\": false, \n",
        "  \"is_translator\": false\n",
        " }, \n",
        " \"geo\": null, \n",
        " \"in_reply_to_user_id_str\": null, \n",
        " \"lang\": \"en\", \n",
        " \"created_at\": \"Mon Oct 27 04:03:05 +0000 2014\", \n",
        " \"in_reply_to_status_id_str\": null, \n",
        " \"place\": null, \n",
        " \"metadata\": {\n",
        "  \"iso_language_code\": \"en\", \n",
        "  \"result_type\": \"recent\"\n",
        " }\n",
        "}\n"
       ]
      }
     ],
     "prompt_number": 5
    },
    {
     "cell_type": "markdown",
     "metadata": {},
     "source": [
      "Note: Should you desire to do so, you can load the same set of search results that are illustrated in the text of _Mining the Social Web_ by executing the code below that reads a snapshot of the data and stores it into the same statuses variable as was defined above. Alternatively, you can choose to skip execution of this cell in order to follow along with your own data."
     ]
    },
    {
     "cell_type": "code",
     "collapsed": false,
     "input": [
      "import json\n",
      "statuses = json.loads(open('resources/ch01-twitter/data/MentionSomeoneImportantForYou.json').read())\n",
      "\n",
      "# The result of the list comprehension is a list with only one element that\n",
      "# can be accessed by its index and set to the variable t\n",
      "t = [ status \n",
      "      for status in statuses\n",
      "          if status['id'] == 316948241264549888 ][0]\n",
      "\n",
      "# Explore the variable t to get familiarized with the data structure...\n",
      "\n",
      "print t['retweet_count']\n",
      "print t['retweeted_status']\n",
      "\n",
      "# Can you find the most retweeted tweet in your search results? Try do do it!"
     ],
     "language": "python",
     "metadata": {},
     "outputs": [
      {
       "output_type": "stream",
       "stream": "stdout",
       "text": [
        "23\n",
        "{u'contributors': None, u'truncated': False, u'text': u'#MentionSomeoneImportantForYou God.', u'in_reply_to_status_id': None, u'id': 316944833233186816, u'favorite_count': 0, u'source': u'web', u'retweeted': False, u'coordinates': None, u'entities': {u'user_mentions': [], u'hashtags': [{u'indices': [0, 30], u'text': u'MentionSomeoneImportantForYou'}], u'urls': []}, u'in_reply_to_screen_name': None, u'in_reply_to_user_id': None, u'retweet_count': 23, u'id_str': u'316944833233186816', u'favorited': False, u'user': {u'follow_request_sent': None, u'profile_use_background_image': True, u'id': 56259379, u'verified': False, u'profile_text_color': u'3C3940', u'profile_image_url_https': u'https://si0.twimg.com/profile_images/3429999131/c22f74b56d0e0bf6350ceb00aae0aa0a_normal.jpeg', u'profile_sidebar_fill_color': u'95E8EC', u'is_translator': False, u'geo_enabled': True, u'entities': {u'url': {u'urls': [{u'url': u'http://t.co/yRX89YM4J0', u'indices': [0, 22], u'expanded_url': u'http://www.datpiff.com/mixtapes-detail.php?id=470069', u'display_url': u'datpiff.com/mixtapes-detai\\u2026'}]}, u'description': {u'urls': []}}, u'followers_count': 105041, u'protected': False, u'location': u'', u'default_profile_image': False, u'id_str': u'56259379', u'utc_offset': -18000, u'statuses_count': 16691, u'description': u'#TheseAreTheWordsISaid LP', u'friends_count': 59615, u'profile_link_color': u'91785A', u'profile_image_url': u'http://a0.twimg.com/profile_images/3429999131/c22f74b56d0e0bf6350ceb00aae0aa0a_normal.jpeg', u'notifications': None, u'profile_background_image_url_https': u'https://si0.twimg.com/profile_background_images/824774581/a0c35bcecb5642e0e17c707372fc393e.jpeg', u'profile_background_color': u'000000', u'profile_banner_url': u'https://si0.twimg.com/profile_banners/56259379/1363388572', u'profile_background_image_url': u'http://a0.twimg.com/profile_background_images/824774581/a0c35bcecb5642e0e17c707372fc393e.jpeg', u'name': u'Download the NEW LP!', u'lang': u'en', u'profile_background_tile': False, u'favourites_count': 6142, u'screen_name': u'hassanmusician', u'url': u'http://t.co/yRX89YM4J0', u'created_at': u'Mon Jul 13 02:18:25 +0000 2009', u'contributors_enabled': False, u'time_zone': u'Eastern Time (US & Canada)', u'profile_sidebar_border_color': u'000000', u'default_profile': False, u'following': None, u'listed_count': 64}, u'geo': None, u'in_reply_to_user_id_str': None, u'lang': u'en', u'created_at': u'Wed Mar 27 16:08:31 +0000 2013', u'in_reply_to_status_id_str': None, u'place': None, u'metadata': {u'iso_language_code': u'en', u'result_type': u'recent'}}\n"
       ]
      }
     ],
     "prompt_number": 6
    },
    {
     "cell_type": "heading",
     "level": 2,
     "metadata": {},
     "source": [
      "Example 6. Extracting text, screen names, and hashtags from tweets"
     ]
    },
    {
     "cell_type": "code",
     "collapsed": false,
     "input": [
      "status_texts = [ status['text'] \n",
      "                 for status in statuses ]\n",
      "\n",
      "screen_names = [ user_mention['screen_name'] \n",
      "                 for status in statuses\n",
      "                     for user_mention in status['entities']['user_mentions'] ]\n",
      "\n",
      "hashtags = [ hashtag['text'] \n",
      "             for status in statuses\n",
      "                 for hashtag in status['entities']['hashtags'] ]\n",
      "\n",
      "# Compute a collection of all words from all tweets\n",
      "words = [ w \n",
      "          for t in status_texts \n",
      "              for w in t.split() ]\n",
      "\n",
      "# Explore the first 5 items for each...\n",
      "\n",
      "print json.dumps(status_texts[0:5], indent=1)\n",
      "print json.dumps(screen_names[0:5], indent=1) \n",
      "print json.dumps(hashtags[0:5], indent=1)\n",
      "print json.dumps(words[0:5], indent=1)"
     ],
     "language": "python",
     "metadata": {},
     "outputs": [
      {
       "output_type": "stream",
       "stream": "stdout",
       "text": [
        "[\n",
        " \"#NoSleepTeam #ForeverTogetherEP Call me 8033891392\\u2764\\ufe0f\\ud83d\\ude18\\ud83d\\ude0d#ForeverTogetherOutNow \\u2764\\ufe0f\", \n",
        " \"You'll be my Monday my fresh starts you'll be my Sunday #nosleepteam #forevertogetherEP #BuyForeverTogetherEPOniTunes #ForeverTogetherOutNow\", \n",
        " \"RT @wesleystromberg: #NoSleepTeam\", \n",
        " \"RT @wesleystromberg: #NoSleepTeam\", \n",
        " \"\\u201c@wesleystromberg: #NoSleepTeam\\u201d\"\n",
        "]\n",
        "[\n",
        " \"wesleystromberg\", \n",
        " \"wesleystromberg\", \n",
        " \"wesleystromberg\", \n",
        " \"wesleystromberg\", \n",
        " \"KeatonStromberg\"\n",
        "]\n",
        "[\n",
        " \"NoSleepTeam\", \n",
        " \"ForeverTogetherEP\", \n",
        " \"ForeverTogetherOutNow\", \n",
        " \"nosleepteam\", \n",
        " \"forevertogetherEP\"\n",
        "]\n",
        "[\n",
        " \"#NoSleepTeam\", \n",
        " \"#ForeverTogetherEP\", \n",
        " \"Call\", \n",
        " \"me\", \n",
        " \"8033891392\\u2764\\ufe0f\\ud83d\\ude18\\ud83d\\ude0d#ForeverTogetherOutNow\"\n",
        "]\n"
       ]
      }
     ],
     "prompt_number": 6
    },
    {
     "cell_type": "heading",
     "level": 2,
     "metadata": {},
     "source": [
      "Example 7. Creating a basic frequency distribution from the words in tweets"
     ]
    },
    {
     "cell_type": "code",
     "collapsed": false,
     "input": [
      "from collections import Counter\n",
      "\n",
      "for item in [words, screen_names, hashtags]:\n",
      "    c = Counter(item)\n",
      "    print c.most_common()[:10] # top 10\n",
      "    print"
     ],
     "language": "python",
     "metadata": {},
     "outputs": [
      {
       "output_type": "stream",
       "stream": "stdout",
       "text": [
        "[(u'#NoSleepTeam', 172), (u'RT', 95), (u'@wesleystromberg:', 90), (u'#ForeverTogetherOutNow', 61), (u'#BuyForeverTogetherEPOniTunes', 44), (u'#ForeverTogetherEP', 39), (u'@wesleystromberg', 37), (u'@KeatonStromberg', 32), (u'#nosleepteam', 23), (u'#forevertogetherEP', 22)]\n",
        "\n",
        "[(u'wesleystromberg', 130), (u'KeatonStromberg', 36), (u'EmblemThree', 14), (u'katielady015', 2), (u'Joshdaviscomedy', 1), (u'TylerCase', 1), (u'discxnnxctxd', 1), (u'falo_ng', 1)]\n",
        "\n",
        "[(u'NoSleepTeam', 175), (u'ForeverTogetherOutNow', 64), (u'BuyForeverTogetherEPOniTunes', 44), (u'ForeverTogetherEP', 39), (u'nosleepteam', 23), (u'forevertogetherEP', 22), (u'keatonfollowpls', 12), (u'ForeverTogetherOutNOW', 5), (u'NOSLEEPTEAM', 2), (u'StillLookingGoodAsFuck', 1)]\n",
        "\n"
       ]
      }
     ],
     "prompt_number": 7
    },
    {
     "cell_type": "heading",
     "level": 2,
     "metadata": {},
     "source": [
      "Example 8. Using prettytable to display tuples in a nice tabular format"
     ]
    },
    {
     "cell_type": "code",
     "collapsed": false,
     "input": [
      "from prettytable import PrettyTable\n",
      "\n",
      "for label, data in (('Word', words), \n",
      "                    ('Screen Name', screen_names), \n",
      "                    ('Hashtag', hashtags)):\n",
      "    pt = PrettyTable(field_names=[label, 'Count']) \n",
      "    c = Counter(data)\n",
      "    [ pt.add_row(kv) for kv in c.most_common()[:10] ]\n",
      "    pt.align[label], pt.align['Count'] = 'l', 'r' # Set column alignment\n",
      "    print pt"
     ],
     "language": "python",
     "metadata": {},
     "outputs": [
      {
       "output_type": "stream",
       "stream": "stdout",
       "text": [
        "+-------------------------------+-------+\n",
        "| Word                          | Count |\n",
        "+-------------------------------+-------+\n",
        "| #NoSleepTeam                  |   172 |\n",
        "| RT                            |    95 |\n",
        "| @wesleystromberg:             |    90 |\n",
        "| #ForeverTogetherOutNow        |    61 |\n",
        "| #BuyForeverTogetherEPOniTunes |    44 |\n",
        "| #ForeverTogetherEP            |    39 |\n",
        "| @wesleystromberg              |    37 |\n",
        "| @KeatonStromberg              |    32 |\n",
        "| #nosleepteam                  |    23 |\n",
        "| #forevertogetherEP            |    22 |\n",
        "+-------------------------------+-------+\n",
        "+-----------------+-------+\n",
        "| Screen Name     | Count |\n",
        "+-----------------+-------+\n",
        "| wesleystromberg |   130 |\n",
        "| KeatonStromberg |    36 |\n",
        "| EmblemThree     |    14 |\n",
        "| katielady015    |     2 |\n",
        "| Joshdaviscomedy |     1 |\n",
        "| TylerCase       |     1 |\n",
        "| discxnnxctxd    |     1 |\n",
        "| falo_ng         |     1 |\n",
        "+-----------------+-------+\n",
        "+------------------------------+-------+\n",
        "| Hashtag                      | Count |\n",
        "+------------------------------+-------+\n",
        "| NoSleepTeam                  |   175 |\n",
        "| ForeverTogetherOutNow        |    64 |\n",
        "| BuyForeverTogetherEPOniTunes |    44 |\n",
        "| ForeverTogetherEP            |    39 |\n",
        "| nosleepteam                  |    23 |\n",
        "| forevertogetherEP            |    22 |\n",
        "| keatonfollowpls              |    12 |\n",
        "| ForeverTogetherOutNOW        |     5 |\n",
        "| NOSLEEPTEAM                  |     2 |\n",
        "| StillLookingGoodAsFuck       |     1 |\n",
        "+------------------------------+-------+\n"
       ]
      }
     ],
     "prompt_number": 8
    },
    {
     "cell_type": "heading",
     "level": 2,
     "metadata": {},
     "source": [
      "Example 9. Calculating lexical diversity for tweets"
     ]
    },
    {
     "cell_type": "code",
     "collapsed": false,
     "input": [
      "# A function for computing lexical diversity\n",
      "def lexical_diversity(tokens):\n",
      "    return 1.0*len(set(tokens))/len(tokens) \n",
      "\n",
      "# A function for computing the average number of words per tweet\n",
      "def average_words(statuses):\n",
      "    total_words = sum([ len(s.split()) for s in statuses ]) \n",
      "    return 1.0*total_words/len(statuses)\n",
      "\n",
      "print lexical_diversity(words)\n",
      "print lexical_diversity(screen_names)\n",
      "print lexical_diversity(hashtags)\n",
      "print average_words(status_texts)"
     ],
     "language": "python",
     "metadata": {},
     "outputs": [
      {
       "output_type": "stream",
       "stream": "stdout",
       "text": [
        "0.296031746032\n",
        "0.0430107526882\n",
        "0.0691358024691\n",
        "6.3\n"
       ]
      }
     ],
     "prompt_number": 9
    },
    {
     "cell_type": "heading",
     "level": 2,
     "metadata": {},
     "source": [
      "Example 10. Finding the most popular retweets"
     ]
    },
    {
     "cell_type": "code",
     "collapsed": false,
     "input": [
      "retweets = [\n",
      "            # Store out a tuple of these three values ...\n",
      "            (status['retweet_count'], \n",
      "             status['retweeted_status']['user']['screen_name'],\n",
      "             status['id']\n",
      "             status['text']) \n",
      "            \n",
      "            # ... for each status ...\n",
      "            for status in statuses \n",
      "            \n",
      "            # ... so long as the status meets this condition.\n",
      "                if status.has_key('retweeted_status')\n",
      "           ]\n",
      "\n",
      "# Slice off the first 5 from the sorted results and display each item in the tuple\n",
      "\n",
      "pt = PrettyTable(field_names=['Count', 'Screen Name', 'Text'])\n",
      "[ pt.add_row(row) for row in sorted(retweets, reverse=True)[:5] ]\n",
      "pt.max_width['Text'] = 50\n",
      "pt.align= 'l'\n",
      "print pt"
     ],
     "language": "python",
     "metadata": {},
     "outputs": [
      {
       "output_type": "stream",
       "stream": "stdout",
       "text": [
        "+-------+-----------------+-----------------------------------+\n",
        "| Count | Screen Name     | Text                              |\n",
        "+-------+-----------------+-----------------------------------+\n",
        "| 1024  | wesleystromberg | RT @wesleystromberg: #NoSleepTeam |\n",
        "| 1024  | wesleystromberg | RT @wesleystromberg: #NoSleepTeam |\n",
        "| 1024  | wesleystromberg | RT @wesleystromberg: #NoSleepTeam |\n",
        "| 1024  | wesleystromberg | RT @wesleystromberg: #NoSleepTeam |\n",
        "| 1024  | wesleystromberg | RT @wesleystromberg: #NoSleepTeam |\n",
        "+-------+-----------------+-----------------------------------+\n"
       ]
      }
     ],
     "prompt_number": 10
    },
    {
     "cell_type": "heading",
     "level": 2,
     "metadata": {},
     "source": [
      "Example 11. Looking up users who have retweeted a status"
     ]
    },
    {
     "cell_type": "code",
     "collapsed": false,
     "input": [
      "# Get the original tweet id for a tweet from its retweeted_status node \n",
      "# and insert it here in place of the sample value that is provided\n",
      "# from the text of the book\n",
      "\n",
      "_retweets = twitter_api.statuses.retweets(id=317127304981667841)\n",
      "print [r['user']['screen_name'] for r in _retweets]"
     ],
     "language": "python",
     "metadata": {},
     "outputs": [
      {
       "ename": "TwitterHTTPError",
       "evalue": "Twitter sent status 403 for URL: 1.1/statuses/retweets/317127304981667841.json using parameters: (oauth_consumer_key=Yk0GEQnjzar9wZOfhvcHmG3wW&oauth_nonce=14995368925404354073&oauth_signature_method=HMAC-SHA1&oauth_timestamp=1414382847&oauth_token=263216225-g2kAX3wEtRdnFINJx0vpZL4WuBV9dqUR0iKtPacE&oauth_version=1.0&oauth_signature=NistovJ0zCz20Q%2BSVp3vGhoKhf8%3D)\ndetails: {\"errors\":[{\"code\":200,\"message\":\"Forbidden.\"}]}",
       "output_type": "pyerr",
       "traceback": [
        "\u001b[1;31m---------------------------------------------------------------------------\u001b[0m\n\u001b[1;31mTwitterHTTPError\u001b[0m                          Traceback (most recent call last)",
        "\u001b[1;32m<ipython-input-11-74f5aae513af>\u001b[0m in \u001b[0;36m<module>\u001b[1;34m()\u001b[0m\n\u001b[0;32m      3\u001b[0m \u001b[1;31m# from the text of the book\u001b[0m\u001b[1;33m\u001b[0m\u001b[1;33m\u001b[0m\u001b[0m\n\u001b[0;32m      4\u001b[0m \u001b[1;33m\u001b[0m\u001b[0m\n\u001b[1;32m----> 5\u001b[1;33m \u001b[0m_retweets\u001b[0m \u001b[1;33m=\u001b[0m \u001b[0mtwitter_api\u001b[0m\u001b[1;33m.\u001b[0m\u001b[0mstatuses\u001b[0m\u001b[1;33m.\u001b[0m\u001b[0mretweets\u001b[0m\u001b[1;33m(\u001b[0m\u001b[0mid\u001b[0m\u001b[1;33m=\u001b[0m\u001b[1;36m317127304981667841\u001b[0m\u001b[1;33m)\u001b[0m\u001b[1;33m\u001b[0m\u001b[0m\n\u001b[0m\u001b[0;32m      6\u001b[0m \u001b[1;32mprint\u001b[0m \u001b[1;33m[\u001b[0m\u001b[0mr\u001b[0m\u001b[1;33m[\u001b[0m\u001b[1;34m'user'\u001b[0m\u001b[1;33m]\u001b[0m\u001b[1;33m[\u001b[0m\u001b[1;34m'screen_name'\u001b[0m\u001b[1;33m]\u001b[0m \u001b[1;32mfor\u001b[0m \u001b[0mr\u001b[0m \u001b[1;32min\u001b[0m \u001b[0m_retweets\u001b[0m\u001b[1;33m]\u001b[0m\u001b[1;33m\u001b[0m\u001b[0m\n",
        "\u001b[1;32m/usr/local/lib/python2.7/dist-packages/twitter/api.pyc\u001b[0m in \u001b[0;36m__call__\u001b[1;34m(self, **kwargs)\u001b[0m\n\u001b[0;32m    237\u001b[0m \u001b[1;33m\u001b[0m\u001b[0m\n\u001b[0;32m    238\u001b[0m         \u001b[0mreq\u001b[0m \u001b[1;33m=\u001b[0m \u001b[0murllib_request\u001b[0m\u001b[1;33m.\u001b[0m\u001b[0mRequest\u001b[0m\u001b[1;33m(\u001b[0m\u001b[0muriBase\u001b[0m\u001b[1;33m,\u001b[0m \u001b[0mbody\u001b[0m\u001b[1;33m,\u001b[0m \u001b[0mheaders\u001b[0m\u001b[1;33m)\u001b[0m\u001b[1;33m\u001b[0m\u001b[0m\n\u001b[1;32m--> 239\u001b[1;33m         \u001b[1;32mreturn\u001b[0m \u001b[0mself\u001b[0m\u001b[1;33m.\u001b[0m\u001b[0m_handle_response\u001b[0m\u001b[1;33m(\u001b[0m\u001b[0mreq\u001b[0m\u001b[1;33m,\u001b[0m \u001b[0muri\u001b[0m\u001b[1;33m,\u001b[0m \u001b[0marg_data\u001b[0m\u001b[1;33m,\u001b[0m \u001b[0m_timeout\u001b[0m\u001b[1;33m)\u001b[0m\u001b[1;33m\u001b[0m\u001b[0m\n\u001b[0m\u001b[0;32m    240\u001b[0m \u001b[1;33m\u001b[0m\u001b[0m\n\u001b[0;32m    241\u001b[0m     \u001b[1;32mdef\u001b[0m \u001b[0m_handle_response\u001b[0m\u001b[1;33m(\u001b[0m\u001b[0mself\u001b[0m\u001b[1;33m,\u001b[0m \u001b[0mreq\u001b[0m\u001b[1;33m,\u001b[0m \u001b[0muri\u001b[0m\u001b[1;33m,\u001b[0m \u001b[0marg_data\u001b[0m\u001b[1;33m,\u001b[0m \u001b[0m_timeout\u001b[0m\u001b[1;33m=\u001b[0m\u001b[0mNone\u001b[0m\u001b[1;33m)\u001b[0m\u001b[1;33m:\u001b[0m\u001b[1;33m\u001b[0m\u001b[0m\n",
        "\u001b[1;32m/usr/local/lib/python2.7/dist-packages/twitter/api.pyc\u001b[0m in \u001b[0;36m_handle_response\u001b[1;34m(self, req, uri, arg_data, _timeout)\u001b[0m\n\u001b[0;32m    268\u001b[0m                 \u001b[1;32mreturn\u001b[0m \u001b[1;33m[\u001b[0m\u001b[1;33m]\u001b[0m\u001b[1;33m\u001b[0m\u001b[0m\n\u001b[0;32m    269\u001b[0m             \u001b[1;32melse\u001b[0m\u001b[1;33m:\u001b[0m\u001b[1;33m\u001b[0m\u001b[0m\n\u001b[1;32m--> 270\u001b[1;33m                 \u001b[1;32mraise\u001b[0m \u001b[0mTwitterHTTPError\u001b[0m\u001b[1;33m(\u001b[0m\u001b[0me\u001b[0m\u001b[1;33m,\u001b[0m \u001b[0muri\u001b[0m\u001b[1;33m,\u001b[0m \u001b[0mself\u001b[0m\u001b[1;33m.\u001b[0m\u001b[0mformat\u001b[0m\u001b[1;33m,\u001b[0m \u001b[0marg_data\u001b[0m\u001b[1;33m)\u001b[0m\u001b[1;33m\u001b[0m\u001b[0m\n\u001b[0m\u001b[0;32m    271\u001b[0m \u001b[1;33m\u001b[0m\u001b[0m\n\u001b[0;32m    272\u001b[0m \u001b[1;32mclass\u001b[0m \u001b[0mTwitter\u001b[0m\u001b[1;33m(\u001b[0m\u001b[0mTwitterCall\u001b[0m\u001b[1;33m)\u001b[0m\u001b[1;33m:\u001b[0m\u001b[1;33m\u001b[0m\u001b[0m\n",
        "\u001b[1;31mTwitterHTTPError\u001b[0m: Twitter sent status 403 for URL: 1.1/statuses/retweets/317127304981667841.json using parameters: (oauth_consumer_key=Yk0GEQnjzar9wZOfhvcHmG3wW&oauth_nonce=14995368925404354073&oauth_signature_method=HMAC-SHA1&oauth_timestamp=1414382847&oauth_token=263216225-g2kAX3wEtRdnFINJx0vpZL4WuBV9dqUR0iKtPacE&oauth_version=1.0&oauth_signature=NistovJ0zCz20Q%2BSVp3vGhoKhf8%3D)\ndetails: {\"errors\":[{\"code\":200,\"message\":\"Forbidden.\"}]}"
       ]
      }
     ],
     "prompt_number": 11
    },
    {
     "cell_type": "heading",
     "level": 2,
     "metadata": {},
     "source": [
      "Example 12. Plotting frequencies of words"
     ]
    },
    {
     "cell_type": "code",
     "collapsed": false,
     "input": [
      "word_counts = sorted(Counter(words).values(), reverse=True)\n",
      "\n",
      "plt.loglog(word_counts)\n",
      "plt.ylabel(\"Freq\")\n",
      "plt.xlabel(\"Word Rank\")"
     ],
     "language": "python",
     "metadata": {},
     "outputs": [
      {
       "metadata": {},
       "output_type": "pyout",
       "prompt_number": 12,
       "text": [
        "<matplotlib.text.Text at 0x3d19690>"
       ]
      },
      {
       "metadata": {},
       "output_type": "display_data",
       "png": "[encoded data removed]",
       "text": [
        "<matplotlib.figure.Figure at 0x3c8f150>"
       ]
      }
     ],
     "prompt_number": 12
    },
    {
     "cell_type": "heading",
     "level": 2,
     "metadata": {},
     "source": [
      "Example 13. Generating histograms of words, screen names, and hashtags"
     ]
    },
    {
     "cell_type": "code",
     "collapsed": false,
     "input": [
      "for label, data in (('Words', words), \n",
      "                    ('Screen Names', screen_names), \n",
      "                    ('Hashtags', hashtags)):\n",
      "\n",
      "    # Build a frequency map for each set of data\n",
      "    # and plot the values\n",
      "    c = Counter(data)\n",
      "    plt.hist(c.values())\n",
      "    \n",
      "    # Add a title and y-label ...\n",
      "    plt.title(label)\n",
      "    plt.ylabel(\"Number of items in bin\")\n",
      "    plt.xlabel(\"Bins (number of times an item appeared)\")\n",
      "    \n",
      "    # ... and display as a new figure\n",
      "    plt.figure()"
     ],
     "language": "python",
     "metadata": {},
     "outputs": [
      {
       "metadata": {},
       "output_type": "display_data",
       "png": "[encoded data removed]",
       "text": [
        "<matplotlib.figure.Figure at 0x3cd0390>"
       ]
      },
      {
       "metadata": {},
       "output_type": "display_data",
       "png": "[encoded data removed]",
       "text": [
        "<matplotlib.figure.Figure at 0x3d27290>"
       ]
      },
      {
       "metadata": {},
       "output_type": "display_data",
       "png": "[encoded data removed]",
       "text": [
        "<matplotlib.figure.Figure at 0x40ca350>"
       ]
      },
      {
       "metadata": {},
       "output_type": "display_data",
       "text": [
        "<matplotlib.figure.Figure at 0x40e5590>"
       ]
      }
     ],
     "prompt_number": 13
    },
    {
     "cell_type": "heading",
     "level": 2,
     "metadata": {},
     "source": [
      "Example 14. Generating a histogram of retweet counts"
     ]
    },
    {
     "cell_type": "code",
     "collapsed": false,
     "input": [
      "# Using underscores while unpacking values in\n",
      "# a tuple is idiomatic for discarding them\n",
      "\n",
      "counts = [count for count, _, _ in retweets]\n",
      "\n",
      "plt.hist(counts)\n",
      "plt.title(\"Retweets\")\n",
      "plt.xlabel('Bins (number of times retweeted)')\n",
      "plt.ylabel('Number of tweets in bin')\n",
      "\n",
      "print counts"
     ],
     "language": "python",
     "metadata": {},
     "outputs": [
      {
       "output_type": "stream",
       "stream": "stdout",
       "text": [
        "[1024, 1024, 1, 1024, 1024, 1024, 1024, 1024, 1024, 1024, 1024, 1024, 1024, 1024, 1024, 1024, 1024, 1024, 1024, 1024, 1024, 1024, 1024, 1024, 1024, 1024, 1024, 1024, 1024, 1024, 1024, 1024, 1024, 1024, 1024, 1024, 1024, 1024, 1024, 1024, 1024, 1024, 1, 1024, 1024, 1, 1024, 1024, 1024, 1024, 1024, 1024, 1024, 1024, 1024, 1, 1024, 1024, 1024, 1024, 1024, 1024, 1024, 1024, 1024, 1024, 1024, 1024, 1024, 1, 1024, 1024, 1024, 1024, 1024, 1024, 1024, 1024, 1024, 1024, 1024, 1024, 1024, 1024, 1024, 1024, 1024, 1024, 1024, 1024, 1024, 1024, 1024, 1024, 1024]\n"
       ]
      },
      {
       "metadata": {},
       "output_type": "display_data",
       "png": "[encoded data removed]",
       "text": [
        "<matplotlib.figure.Figure at 0x439d090>"
       ]
      }
     ],
     "prompt_number": 14
    },
    {
     "cell_type": "markdown",
     "metadata": {},
     "source": [
      "Note: This histogram gives you an idea of how many times tweets are retweeted with the x-axis defining partitions for tweets that have been retweeted some number of times and the y-axis telling you how many tweets fell into each bin. For example, a y-axis value of 5 for the \"15-20 bin\" on the x-axis means that there were 5 tweets that were retweeted between 15 and 20 times.\n",
      "\n",
      "Here's another variation that transforms the data using the (automatically imported from numpy) log function in order to improve the resolution of the plot."
     ]
    },
    {
     "cell_type": "code",
     "collapsed": false,
     "input": [
      "# Using underscores while unpacking values in\n",
      "# a tuple is idiomatic for discarding them\n",
      "\n",
      "counts = [count for count, _, _ in retweets]\n",
      "\n",
      "# Taking the log of the *data values* themselves can \n",
      "# often provide quick and valuable insight into the\n",
      "# underlying distribution as well. Try it back on\n",
      "# Example 13 and see if it helps.\n",
      "\n",
      "plt.hist(log(counts))\n",
      "plt.title(\"Retweets\")\n",
      "plt.xlabel('Log[Bins (number of times retweeted)]')\n",
      "plt.ylabel('Log[Number of tweets in bin]')\n",
      "\n",
      "print log(counts)"
     ],
     "language": "python",
     "metadata": {},
     "outputs": [
      {
       "output_type": "stream",
       "stream": "stdout",
       "text": [
        "[ 6.93147181  6.93147181  0.          6.93147181  6.93147181  6.93147181\n",
        "  6.93147181  6.93147181  6.93147181  6.93147181  6.93147181  6.93147181\n",
        "  6.93147181  6.93147181  6.93147181  6.93147181  6.93147181  6.93147181\n",
        "  6.93147181  6.93147181  6.93147181  6.93147181  6.93147181  6.93147181\n",
        "  6.93147181  6.93147181  6.93147181  6.93147181  6.93147181  6.93147181\n",
        "  6.93147181  6.93147181  6.93147181  6.93147181  6.93147181  6.93147181\n",
        "  6.93147181  6.93147181  6.93147181  6.93147181  6.93147181  6.93147181\n",
        "  0.          6.93147181  6.93147181  0.          6.93147181  6.93147181\n",
        "  6.93147181  6.93147181  6.93147181  6.93147181  6.93147181  6.93147181\n",
        "  6.93147181  0.          6.93147181  6.93147181  6.93147181  6.93147181\n",
        "  6.93147181  6.93147181  6.93147181  6.93147181  6.93147181  6.93147181\n",
        "  6.93147181  6.93147181  6.93147181  0.          6.93147181  6.93147181\n",
        "  6.93147181  6.93147181  6.93147181  6.93147181  6.93147181  6.93147181\n",
        "  6.93147181  6.93147181  6.93147181  6.93147181  6.93147181  6.93147181\n",
        "  6.93147181  6.93147181  6.93147181  6.93147181  6.93147181  6.93147181\n",
        "  6.93147181  6.93147181  6.93147181  6.93147181  6.93147181]\n"
       ]
      },
      {
       "metadata": {},
       "output_type": "display_data",
       "png": "[encoded data removed]",
       "text": [
        "<matplotlib.figure.Figure at 0x437f250>"
       ]
      }
     ],
     "prompt_number": 15
    },
    {
     "cell_type": "code",
     "collapsed": false,
     "input": [],
     "language": "python",
     "metadata": {},
     "outputs": []
    }
   ],
   "metadata": {}
  }
 ]
}